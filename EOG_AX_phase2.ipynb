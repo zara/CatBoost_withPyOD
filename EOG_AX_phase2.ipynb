{
  "nbformat": 4,
  "nbformat_minor": 0,
  "metadata": {
    "colab": {
      "name": "EOG_AX_phase2.ipynb",
      "provenance": [],
      "collapsed_sections": [],
      "machine_shape": "hm"
    },
    "kernelspec": {
      "name": "python3",
      "display_name": "Python 3"
    }
  },
  "cells": [
    {
      "cell_type": "code",
      "metadata": {
        "id": "ygoIein-KK75",
        "colab_type": "code",
        "colab": {}
      },
      "source": [
        "from google.colab import drive\n",
        "drive.mount('/content/drive')"
      ],
      "execution_count": 0,
      "outputs": []
    },
    {
      "cell_type": "code",
      "metadata": {
        "id": "spUPz4huKMmZ",
        "colab_type": "code",
        "colab": {}
      },
      "source": [
        "pip install tensorflow==2.1.0"
      ],
      "execution_count": 0,
      "outputs": []
    },
    {
      "cell_type": "code",
      "metadata": {
        "id": "QGmP3O9LKM2f",
        "colab_type": "code",
        "colab": {}
      },
      "source": [
        "pip install tensorflow-gpu"
      ],
      "execution_count": 0,
      "outputs": []
    },
    {
      "cell_type": "code",
      "metadata": {
        "id": "g4xwsCx_KepE",
        "colab_type": "code",
        "colab": {}
      },
      "source": [
        "import  os\n",
        "import  tensorflow as tf\n",
        "from    tensorflow import keras\n",
        "from    tensorflow.keras import layers, optimizers\n",
        "from PIL import Image\n",
        "import numpy as np\n",
        "import os"
      ],
      "execution_count": 0,
      "outputs": []
    },
    {
      "cell_type": "code",
      "metadata": {
        "id": "itSti0rNKfTM",
        "colab_type": "code",
        "colab": {}
      },
      "source": [
        "train_images = []\n",
        "train_labels = []\n",
        "count = 0\n",
        "\n",
        "for img_path in os.listdir('/content/drive/My Drive/train_ax/'):\n",
        "      count+=1\n",
        "      if count==5000:\n",
        "        break\n",
        "      im = Image.open('/content/drive/My Drive/train_ax/' + str(img_path))\n",
        "      #.convert('L')\n",
        "      im = im.resize((128, 128))\n",
        "      train_images.append(np.array(im))\n",
        "      x=img_path[0:1]\n",
        "      a=x.split('_')\n",
        "      train_labels.append(int(a[0]))   "
      ],
      "execution_count": 0,
      "outputs": []
    },
    {
      "cell_type": "code",
      "metadata": {
        "id": "rxxu8dqaexLD",
        "colab_type": "code",
        "outputId": "bfa01e41-78d4-4bd7-ac14-c3c350cb386e",
        "colab": {
          "base_uri": "https://localhost:8080/",
          "height": 34
        }
      },
      "source": [
        "#im\n",
        "len(train_labels)"
      ],
      "execution_count": 0,
      "outputs": [
        {
          "output_type": "execute_result",
          "data": {
            "text/plain": [
              "4999"
            ]
          },
          "metadata": {
            "tags": []
          },
          "execution_count": 89
        }
      ]
    },
    {
      "cell_type": "code",
      "metadata": {
        "id": "cRplVhFsx06O",
        "colab_type": "code",
        "outputId": "7c4e2d54-0c33-41f9-ae1b-d5420f79c06d",
        "colab": {
          "base_uri": "https://localhost:8080/",
          "height": 34
        }
      },
      "source": [
        "np.shape(train_images)"
      ],
      "execution_count": 0,
      "outputs": [
        {
          "output_type": "execute_result",
          "data": {
            "text/plain": [
              "(4999, 128, 128, 4)"
            ]
          },
          "metadata": {
            "tags": []
          },
          "execution_count": 90
        }
      ]
    },
    {
      "cell_type": "code",
      "metadata": {
        "id": "FJUxrGciaACB",
        "colab_type": "code",
        "colab": {}
      },
      "source": [
        "test_images = []\n",
        "test_labels = []\n",
        "count = 0\n",
        "\n",
        "for img_path in os.listdir('/content/drive/My Drive/test_ax/'):\n",
        "      count+=1\n",
        "      if count==1000:\n",
        "        break\n",
        "      im = Image.open('/content/drive/My Drive/test_ax/' + str(img_path))\n",
        "      im = im.resize((128, 128))\n",
        "      test_images.append(np.array(im))\n",
        "      x=img_path[0:1]\n",
        "      a=x.split('_')\n",
        "      test_labels.append(int(a[0]))   "
      ],
      "execution_count": 0,
      "outputs": []
    },
    {
      "cell_type": "code",
      "metadata": {
        "id": "cHyvjRdbKxZ0",
        "colab_type": "code",
        "outputId": "dc429dee-2ff4-4ea8-8e2d-ddc809522b6c",
        "colab": {
          "base_uri": "https://localhost:8080/",
          "height": 34
        }
      },
      "source": [
        "len(test_images)"
      ],
      "execution_count": 0,
      "outputs": [
        {
          "output_type": "execute_result",
          "data": {
            "text/plain": [
              "999"
            ]
          },
          "metadata": {
            "tags": []
          },
          "execution_count": 92
        }
      ]
    },
    {
      "cell_type": "code",
      "metadata": {
        "id": "COtu0WP_oa_N",
        "colab_type": "code",
        "colab": {}
      },
      "source": [
        "def prepare_labels(x):\n",
        "  x = tf.cast(x, tf.float32) / 255.0\n",
        "  return x\n",
        "\n",
        "from keras.utils.np_utils import to_categorical\n",
        "\n",
        "one_hot_train_labels=to_categorical(train_labels)\n",
        "one_hot_test_labels=to_categorical(test_labels)"
      ],
      "execution_count": 0,
      "outputs": []
    },
    {
      "cell_type": "code",
      "metadata": {
        "id": "1IlmNQu4Ga70",
        "colab_type": "code",
        "outputId": "d515411a-4ddf-4f88-c5be-db13ef645514",
        "colab": {
          "base_uri": "https://localhost:8080/",
          "height": 34
        }
      },
      "source": [
        "one_hot_train_labels.shape"
      ],
      "execution_count": 0,
      "outputs": [
        {
          "output_type": "execute_result",
          "data": {
            "text/plain": [
              "(4999, 7)"
            ]
          },
          "metadata": {
            "tags": []
          },
          "execution_count": 94
        }
      ]
    },
    {
      "cell_type": "code",
      "metadata": {
        "id": "S9XFXk_9AYcL",
        "colab_type": "code",
        "colab": {}
      },
      "source": [
        "x_train = prepare_labels(train_images)"
      ],
      "execution_count": 0,
      "outputs": []
    },
    {
      "cell_type": "code",
      "metadata": {
        "id": "obYx9ZLkwKYz",
        "colab_type": "code",
        "colab": {}
      },
      "source": [
        "x_val = prepare_labels(test_images)"
      ],
      "execution_count": 0,
      "outputs": []
    },
    {
      "cell_type": "code",
      "metadata": {
        "id": "X4jSIXVtPK7H",
        "colab_type": "code",
        "colab": {}
      },
      "source": [
        "#import pandas as pd\n",
        "train_images=np.asarray(train_images)\n",
        "test_images=np.asarray(test_images)"
      ],
      "execution_count": 0,
      "outputs": []
    },
    {
      "cell_type": "code",
      "metadata": {
        "id": "98vcd8rIRCqT",
        "colab_type": "code",
        "colab": {}
      },
      "source": [
        "#train_images.shape\n",
        "\n",
        "train_images=train_images.reshape(4999, 128, 128,4)\n",
        "test_images=test_images.reshape(999, 128, 128,4)"
      ],
      "execution_count": 0,
      "outputs": []
    },
    {
      "cell_type": "code",
      "metadata": {
        "id": "fBDGYGSGLpl9",
        "colab_type": "code",
        "colab": {}
      },
      "source": [
        "os.environ['TF_CPP_MIN_LOG_LEVEL'] = '2'  # or any {'0', '1', '2'}\n",
        "\n",
        "from tensorflow.python.keras import models\n",
        "from tensorflow.python.keras import layers\n",
        "\n",
        "model=models.Sequential()\n",
        "model.add(layers.Conv2D(32,(3,3) , activation='relu',input_shape=(128,128,4),))\n",
        "model.add(layers.MaxPooling2D((2,2)))\n",
        "model.add(layers.Conv2D(64, (3,3) , activation='relu'))\n",
        "model.add(layers.MaxPooling2D((2,2)))\n",
        "model.add(layers.Conv2D(64,(3,3), activation='relu'))\n",
        "\n",
        "model.add(layers.Flatten())\n",
        "model.add(layers.Dense(512, activation='relu'))\n",
        "model.add(layers.Dense(128, activation='relu'))\n",
        "model.add(layers.Dense(7 , activation='softmax'))\n",
        "\n",
        "model.compile(optimizer='rmsprop',loss='categorical_crossentropy',metrics=['accuracy'])"
      ],
      "execution_count": 0,
      "outputs": []
    },
    {
      "cell_type": "code",
      "metadata": {
        "id": "pGOlL94n7gKX",
        "colab_type": "code",
        "outputId": "ecfd88de-7e1b-499c-af2d-ae7538c57916",
        "colab": {
          "base_uri": "https://localhost:8080/",
          "height": 221
        }
      },
      "source": [
        "model.fit(train_images, one_hot_train_labels,epochs=5 , batch_size=128)"
      ],
      "execution_count": 0,
      "outputs": [
        {
          "output_type": "stream",
          "text": [
            "Train on 4999 samples\n",
            "Epoch 1/5\n",
            "4999/4999 [==============================] - 74s 15ms/sample - loss: 125.3955 - accuracy: 0.1752\n",
            "Epoch 2/5\n",
            "4999/4999 [==============================] - 73s 15ms/sample - loss: 1.8663 - accuracy: 0.1666\n",
            "Epoch 3/5\n",
            "4999/4999 [==============================] - 74s 15ms/sample - loss: 22.2525 - accuracy: 0.2026\n",
            "Epoch 4/5\n",
            "4999/4999 [==============================] - 75s 15ms/sample - loss: 1.8138 - accuracy: 0.2136\n",
            "Epoch 5/5\n",
            "4999/4999 [==============================] - 74s 15ms/sample - loss: 1.7883 - accuracy: 0.2100\n"
          ],
          "name": "stdout"
        },
        {
          "output_type": "execute_result",
          "data": {
            "text/plain": [
              "<tensorflow.python.keras.callbacks.History at 0x7f5c5c5f90b8>"
            ]
          },
          "metadata": {
            "tags": []
          },
          "execution_count": 98
        }
      ]
    },
    {
      "cell_type": "code",
      "metadata": {
        "id": "im1eqTNVAX19",
        "colab_type": "code",
        "outputId": "02f625b1-72ed-4550-9260-b988d14118c4",
        "colab": {
          "base_uri": "https://localhost:8080/",
          "height": 34
        }
      },
      "source": [
        "results=model.evaluate(test_images, one_hot_test_labels)"
      ],
      "execution_count": 0,
      "outputs": [
        {
          "output_type": "stream",
          "text": [
            "999/999 [==============================] - 5s 5ms/sample - loss: 1.6602 - accuracy: 0.5245\n"
          ],
          "name": "stdout"
        }
      ]
    }
  ]
}