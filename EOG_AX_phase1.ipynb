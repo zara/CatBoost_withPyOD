{
  "nbformat": 4,
  "nbformat_minor": 0,
  "metadata": {
    "colab": {
      "name": "EOG_AX_phase1.ipynb",
      "provenance": [],
      "collapsed_sections": []
    },
    "kernelspec": {
      "name": "python3",
      "display_name": "Python 3"
    },
    "accelerator": "TPU"
  },
  "cells": [
    {
      "cell_type": "code",
      "metadata": {
        "id": "Tw-wDu21tQUO",
        "colab_type": "code",
        "colab": {}
      },
      "source": [
        "from google.colab import drive\n",
        "drive.mount('/content/drive')"
      ],
      "execution_count": 0,
      "outputs": []
    },
    {
      "cell_type": "code",
      "metadata": {
        "id": "IuB1tr84uOON",
        "colab_type": "code",
        "colab": {}
      },
      "source": [
        "import pandas as pd\n",
        "import scipy.io\n",
        "import numpy as np\n",
        "import scipy\n",
        "from scipy.io import loadmat\n",
        "from pandas import DataFrame\n",
        "import os\n",
        "import re\n",
        "from sklearn import metrics\n",
        "from scipy import signal\n",
        "import matplotlib as mpl\n",
        "import matplotlib.pyplot as plt\n",
        "mpl.rcParams['figure.figsize'] = [12, 8]"
      ],
      "execution_count": 0,
      "outputs": []
    },
    {
      "cell_type": "code",
      "metadata": {
        "id": "llogkFWqtrmP",
        "colab_type": "code",
        "colab": {}
      },
      "source": [
        "#load the data\n",
        "data_train=[]\n",
        "for file in os.listdir('/content/drive/My Drive/Machine_Learning/EOG/train/'):\n",
        "    mat = scipy.io.loadmat(\"/content/drive/My Drive/Machine_Learning/EOG/train/\" + file)\n",
        "    a= mat['data']\n",
        "    df=pd.DataFrame(a)\n",
        "    df=df.drop(df.columns[0:2], axis=1)\n",
        "    data_train.append(df)"
      ],
      "execution_count": 0,
      "outputs": []
    },
    {
      "cell_type": "code",
      "metadata": {
        "id": "xlu4zOetuLDs",
        "colab_type": "code",
        "colab": {}
      },
      "source": [
        "action=[]\n",
        "target_train=[]\n",
        "action_train=[]\n",
        "k=0\n",
        "for f in range(len(data_train)):\n",
        "    for i in range(1,7):\n",
        "        d=data_train[f][data_train[f][4]==i]\n",
        "        for j in range(0,(len(d)-3840),64):\n",
        "            action.append(d[j:j+3840])\n",
        "            target_train.append(action[k][4].values[0])\n",
        "            action[k]=action[k].drop(4, axis=1)\n",
        "            action_train.append(action[k].values.reshape(1,-1)[0])\n",
        "            k+=1 "
      ],
      "execution_count": 0,
      "outputs": []
    },
    {
      "cell_type": "code",
      "metadata": {
        "id": "syetqaV-0E87",
        "colab_type": "code",
        "outputId": "570a52a0-c76b-47bf-f10c-058db403b9db",
        "colab": {
          "base_uri": "https://localhost:8080/",
          "height": 34
        }
      },
      "source": [
        "len(action_train)\n"
      ],
      "execution_count": 0,
      "outputs": [
        {
          "output_type": "execute_result",
          "data": {
            "text/plain": [
              "34159"
            ]
          },
          "metadata": {
            "tags": []
          },
          "execution_count": 12
        }
      ]
    },
    {
      "cell_type": "code",
      "metadata": {
        "id": "FuV0T0k67eRz",
        "colab_type": "code",
        "outputId": "f9a348e4-fe6b-4d9c-b52e-6222298d29f3",
        "colab": {
          "base_uri": "https://localhost:8080/",
          "height": 34
        }
      },
      "source": [
        "directory='/content/drive/My Drive/Machine_Learning/EOG/train_ax'\n",
        "for l in range(32000,34159):\n",
        "    filename = directory + '/' + str(target_train[l]) + '_' + str(l) +'.png'\n",
        "    fig, ax = plt.subplots() \n",
        "    f, t, Sxx = signal.spectrogram(action_train[l])\n",
        "    pc = ax.pcolormesh(t, f, Sxx, norm=mpl.colors.LogNorm(vmin=Sxx.min(), vmax=Sxx.max()), cmap='inferno')\n",
        "    ax.set_ylabel('Frequency')\n",
        "    ax.set_xlabel('Time') \n",
        "    plt.axis('off')\n",
        "    plt.savefig(filename, bbox_inches='tight', transparent=True, pad_inches=0.0)\n",
        "    plt.close(plt.gcf())\n",
        "    plt.clf()"
      ],
      "execution_count": 0,
      "outputs": [
        {
          "output_type": "display_data",
          "data": {
            "text/plain": [
              "<Figure size 864x576 with 0 Axes>"
            ]
          },
          "metadata": {
            "tags": []
          }
        }
      ]
    },
    {
      "cell_type": "code",
      "metadata": {
        "id": "uATyK_WfgmpB",
        "colab_type": "code",
        "colab": {}
      },
      "source": [
        "#Test\n",
        "data_test=[]\n",
        "for file in os.listdir('/content/drive/My Drive/Machine_Learning/EOG/test/'):\n",
        "    mat = scipy.io.loadmat(\"/content/drive/My Drive/Machine_Learning/EOG/test/\" + file)\n",
        "    a= mat['data']\n",
        "    df=pd.DataFrame(a)\n",
        "    df=df.drop(df.columns[0:2], axis=1)\n",
        "    data_test.append(df)"
      ],
      "execution_count": 0,
      "outputs": []
    },
    {
      "cell_type": "code",
      "metadata": {
        "id": "btGayq7k9qvm",
        "colab_type": "code",
        "colab": {}
      },
      "source": [
        "action=[]\n",
        "target_test=[]\n",
        "action_test=[]\n",
        "k=0\n",
        "for f in range(len(data_test)):\n",
        "    for i in range(1,7):\n",
        "        d=data_test[f][data_test[f][4]==i]\n",
        "        for j in range(0,(len(d)-3840),64):\n",
        "            action.append(d[j:j+3840])\n",
        "            target_test.append(action[k][4].values[0])\n",
        "            action[k]=action[k].drop(4, axis=1)\n",
        "            action_test.append(action[k].values.reshape(1,-1)[0])\n",
        "            k+=1 "
      ],
      "execution_count": 0,
      "outputs": []
    },
    {
      "cell_type": "code",
      "metadata": {
        "id": "NXI7VL1FRyeQ",
        "colab_type": "code",
        "outputId": "27acd3d2-7ce0-4f8f-aefa-b09a809bb9a8",
        "colab": {
          "base_uri": "https://localhost:8080/",
          "height": 34
        }
      },
      "source": [
        "len(action_test)"
      ],
      "execution_count": 0,
      "outputs": [
        {
          "output_type": "execute_result",
          "data": {
            "text/plain": [
              "5413"
            ]
          },
          "metadata": {
            "tags": []
          },
          "execution_count": 16
        }
      ]
    },
    {
      "cell_type": "code",
      "metadata": {
        "id": "C9tId82a9uKx",
        "colab_type": "code",
        "outputId": "1e162cc0-f013-49a7-ec9f-af2f59b0a5fa",
        "colab": {
          "base_uri": "https://localhost:8080/",
          "height": 34
        }
      },
      "source": [
        "directory='/content/drive/My Drive/Machine_Learning/EOG/test_ax'\n",
        "for l in range(3000,5413):\n",
        "    filename = directory + '/' + str(target_test[l]) + '_' + str(l) +'.png'\n",
        "    fig, ax = plt.subplots() \n",
        "    f, t, Sxx = signal.spectrogram(action_test[l])\n",
        "    pc = ax.pcolormesh(t, f, Sxx, norm=mpl.colors.LogNorm(vmin=Sxx.min(), vmax=Sxx.max()), cmap='inferno')\n",
        "    ax.set_ylabel('Frequency')\n",
        "    ax.set_xlabel('Time') \n",
        "    plt.axis('off')\n",
        "    plt.savefig(filename, bbox_inches='tight', transparent=True, pad_inches=0.0)\n",
        "    plt.close(plt.gcf())\n",
        "    plt.clf()"
      ],
      "execution_count": 0,
      "outputs": [
        {
          "output_type": "display_data",
          "data": {
            "text/plain": [
              "<Figure size 864x576 with 0 Axes>"
            ]
          },
          "metadata": {
            "tags": []
          }
        }
      ]
    }
  ]
}